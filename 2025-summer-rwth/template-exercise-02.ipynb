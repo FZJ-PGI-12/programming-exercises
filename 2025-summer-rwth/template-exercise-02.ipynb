{
 "cells": [
  {
   "cell_type": "markdown",
   "id": "fb789dfb",
   "metadata": {
    "slideshow": {
     "slide_type": "slide"
    }
   },
   "source": [
    "# Template to Exercise 2\n",
    "\n",
    "Author: Tobias Stollenwerk, Nil Rodellas Gràcia, Institute for Quantum Computing Analytics (PGI-12), FZ Jülich\n",
    "\n",
    "**Please use this template for exercise 2**\n",
    "\n",
    "## Exercise 2.1"
   ]
  },
  {
   "cell_type": "code",
   "execution_count": 1,
   "id": "b0602cae",
   "metadata": {
    "slideshow": {
     "slide_type": "skip"
    }
   },
   "outputs": [],
   "source": [
    "import qiskit\n",
    "# numerics\n",
    "import numpy as np\n",
    "# functional programmin tools\n",
    "import itertools\n",
    "import functools\n",
    "import operator\n",
    "# plotting\n",
    "import matplotlib.pyplot as plt\n",
    "import seaborn\n",
    "# data analysis\n",
    "import pandas as pd\n",
    "# qiskit \n",
    "from qiskit import QuantumCircuit, transpile\n",
    "from qiskit_aer import QasmSimulator, AerSimulator\n",
    "from qiskit.quantum_info import Pauli\n",
    "from qiskit.visualization import array_to_latex, plot_histogram\n",
    "from qiskit.quantum_info import Kraus, SuperOp, SparsePauliOp, Operator, DensityMatrix, Statevector\n",
    "from qiskit_aer.noise import NoiseModel, QuantumError, ReadoutError, depolarizing_error\n",
    "from qiskit.circuit import ParameterVector"
   ]
  },
  {
   "cell_type": "code",
   "execution_count": 2,
   "id": "a65a8836",
   "metadata": {},
   "outputs": [
    {
     "data": {
      "image/png": "[encoded data removed]",
      "text/plain": [
       "<Figure size 454.517x284.278 with 1 Axes>"
      ]
     },
     "metadata": {},
     "output_type": "display_data"
    }
   ],
   "source": [
    "circuit = QuantumCircuit(2, 2)\n",
    "circuit.id(0)\n",
    "circuit.id(1)\n",
    "circuit.h(0)\n",
    "circuit.id(1)\n",
    "circuit.measure(0, 0)\n",
    "circuit.measure(1, 1);\n",
    "# display the circuit\n",
    "display(circuit.draw('mpl'))"
   ]
  },
  {
   "cell_type": "code",
   "execution_count": 3,
   "id": "6947dacd-c4ef-4640-a005-ccacace9ade0",
   "metadata": {},
   "outputs": [],
   "source": [
    "p = 0.1\n",
    "\n",
    "error_1 = depolarizing_error(p, 1)"
   ]
  },
  {
   "cell_type": "code",
   "execution_count": 4,
   "id": "b643910c-46cf-4f6d-8795-c2843bc86af9",
   "metadata": {},
   "outputs": [],
   "source": [
    "p0given1 = 0.1\n",
    "p1given0 = 0.05\n",
    "\n",
    "error_readout = ReadoutError([[1 - p1given0, p1given0], [p0given1, 1 - p0given1]])"
   ]
  },
  {
   "cell_type": "code",
   "execution_count": 5,
   "id": "959f011f-9c47-4b36-929c-82430417ee0e",
   "metadata": {},
   "outputs": [],
   "source": [
    "# ... build noise model here"
   ]
  },
  {
   "cell_type": "markdown",
   "id": "3a7d04dc",
   "metadata": {},
   "source": [
    "## Exercise 2.2 - quantum optimization\n",
    "### Hints\n",
    "\n",
    "Consider the MaxCut case\n",
    "\n",
    "$$\n",
    "H_f = \\sum_{u, v \\in E} Z_u Z_v\n",
    "$$\n",
    "\n",
    "for the edge set $E = \\{(1, 2), (2, 3), (2, 4), (3, 4)\\}$"
   ]
  },
  {
   "cell_type": "code",
   "execution_count": 6,
   "id": "d3e9e8f7",
   "metadata": {},
   "outputs": [],
   "source": [
    "E = [(1, 2), (2, 3), (2, 4), (3, 4)]\n",
    "V = [1, 2, 3, 4]\n",
    "\n",
    "pauli_strings = []\n",
    "for u, v in E:\n",
    "    pauli_strings.append(\"\".join([\"I\" if i not in (u, v) else \"Z\" for i in V ]))\n",
    "H = SparsePauliOp(pauli_strings)\n"
   ]
  },
  {
   "cell_type": "code",
   "execution_count": 7,
   "id": "74da215e",
   "metadata": {},
   "outputs": [
    {
     "name": "stdout",
     "output_type": "stream",
     "text": [
      "dict_keys([(0, 0, 0, 0), (0, 0, 0, 1), (0, 0, 1, 0), (0, 0, 1, 1), (0, 1, 0, 0), (0, 1, 0, 1), (0, 1, 1, 0), (0, 1, 1, 1), (1, 0, 0, 0), (1, 0, 0, 1), (1, 0, 1, 0), (1, 0, 1, 1), (1, 1, 0, 0), (1, 1, 0, 1), (1, 1, 1, 0), (1, 1, 1, 1)])\n"
     ]
    }
   ],
   "source": [
    "basis_states = {}\n",
    "ket = {0: Statevector([1, 0]), 1: Statevector([0, 1])}\n",
    "for i, bitstring in enumerate(itertools.product([0, 1], repeat=4)):\n",
    "    state = ket[bitstring[0]]\n",
    "    for k in range(len(bitstring) - 1):\n",
    "        state = state.tensor(ket[bitstring[k + 1]])\n",
    "    basis_states[bitstring] = state\n",
    "print(basis_states.keys())"
   ]
  },
  {
   "cell_type": "code",
   "execution_count": 8,
   "id": "c24a0cf7",
   "metadata": {},
   "outputs": [
    {
     "name": "stdout",
     "output_type": "stream",
     "text": [
      "<(0, 0, 0, 0)|H|(0, 0, 0, 0)> = (4+0j)\n",
      "<(0, 0, 0, 1)|H|(0, 0, 0, 1)> = 0j\n",
      "<(0, 0, 1, 0)|H|(0, 0, 1, 0)> = 0j\n",
      "<(0, 0, 1, 1)|H|(0, 0, 1, 1)> = 0j\n",
      "<(0, 1, 0, 0)|H|(0, 1, 0, 0)> = (-2+0j)\n",
      "<(0, 1, 0, 1)|H|(0, 1, 0, 1)> = (-2+0j)\n",
      "<(0, 1, 1, 0)|H|(0, 1, 1, 0)> = (-2+0j)\n",
      "<(0, 1, 1, 1)|H|(0, 1, 1, 1)> = (2+0j)\n",
      "<(1, 0, 0, 0)|H|(1, 0, 0, 0)> = (2+0j)\n",
      "<(1, 0, 0, 1)|H|(1, 0, 0, 1)> = (-2+0j)\n",
      "<(1, 0, 1, 0)|H|(1, 0, 1, 0)> = (-2+0j)\n",
      "<(1, 0, 1, 1)|H|(1, 0, 1, 1)> = (-2+0j)\n",
      "<(1, 1, 0, 0)|H|(1, 1, 0, 0)> = 0j\n",
      "<(1, 1, 0, 1)|H|(1, 1, 0, 1)> = 0j\n",
      "<(1, 1, 1, 0)|H|(1, 1, 1, 0)> = 0j\n",
      "<(1, 1, 1, 1)|H|(1, 1, 1, 1)> = (4+0j)\n"
     ]
    }
   ],
   "source": [
    "for bitstring, state in basis_states.items():\n",
    "    f = state.expectation_value(H)\n",
    "    print(\"<{}|H|{}> = {}\".format(bitstring, bitstring, f))"
   ]
  },
  {
   "cell_type": "code",
   "execution_count": null,
   "id": "4a02c4ad",
   "metadata": {},
   "outputs": [],
   "source": []
  }
 ],
 "metadata": {
  "celltoolbar": "Slideshow",
  "kernelspec": {
   "display_name": "Python 3 (ipykernel)",
   "language": "python",
   "name": "python3"
  },
  "language_info": {
   "codemirror_mode": {
    "name": "ipython",
    "version": 3
   },
   "file_extension": ".py",
   "mimetype": "text/x-python",
   "name": "python",
   "nbconvert_exporter": "python",
   "pygments_lexer": "ipython3",
   "version": "3.12.10"
  }
 },
 "nbformat": 4,
 "nbformat_minor": 5
}
