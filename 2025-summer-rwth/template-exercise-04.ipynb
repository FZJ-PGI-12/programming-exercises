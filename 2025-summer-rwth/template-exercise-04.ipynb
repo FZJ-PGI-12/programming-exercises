{
 "cells": [
  {
   "cell_type": "code",
   "execution_count": 1,
   "id": "3ad81093-9f6a-4d8d-a85b-7f5e056f42a6",
   "metadata": {},
   "outputs": [],
   "source": [
    "import qiskit\n",
    "# numerics\n",
    "import numpy as np\n",
    "# functional programming tools\n",
    "import itertools\n",
    "import functools\n",
    "import operator\n",
    "# plotting\n",
    "import matplotlib.pyplot as plt\n",
    "%matplotlib inline\n",
    "plt.rcParams['figure.dpi'] = 125\n",
    "import seaborn\n",
    "# data analysis\n",
    "import pandas as pd\n",
    "# qiskit \n",
    "from qiskit import QuantumCircuit, transpile, assemble\n",
    "from qiskit_aer import QasmSimulator, AerSimulator\n",
    "from qiskit.quantum_info import Pauli\n",
    "from qiskit.visualization import array_to_latex, plot_histogram\n",
    "from qiskit.quantum_info import Kraus, SuperOp, SparsePauliOp, Operator, DensityMatrix, Statevector\n",
    "from qiskit_aer.noise import NoiseModel, QuantumError, ReadoutError, depolarizing_error\n",
    "from qiskit.circuit import ParameterVector"
   ]
  },
  {
   "cell_type": "markdown",
   "id": "473f6a05-7b38-4c95-b4be-3896dce7e718",
   "metadata": {},
   "source": [
    "## Exercise 4.1"
   ]
  },
  {
   "cell_type": "code",
   "execution_count": 2,
   "id": "b4d52ecc-63e2-4064-be7c-022310e0ea9c",
   "metadata": {},
   "outputs": [],
   "source": [
    "#Circuit 1: Single CNOT gate\n",
    "circ_1=list([list((0,3))])\n",
    "circ_2=list([list((0,1)), list((2,3)), list((0,3)), list((1,2))])\n",
    "\n",
    "def create_CNOT_circuit(CNOT_list):\n",
    "    qc = QuantumCircuit(4)\n",
    "    \n",
    "    # Apply the Ising-type gates for each edge\n",
    "    for item in CNOT_list:\n",
    "        qc.cx(item[0], item[1])\n",
    "    return qc"
   ]
  },
  {
   "cell_type": "markdown",
   "id": "600906e9-281f-44b3-94e5-969435bc7027",
   "metadata": {},
   "source": [
    "### 4.1 (a)"
   ]
  },
  {
   "cell_type": "code",
   "execution_count": 3,
   "id": "3f35ef37-d8ab-45e2-81e0-b0eb21691723",
   "metadata": {},
   "outputs": [],
   "source": [
    "#Algorithm:\n",
    "def qubit_routing_algorithm(CNOT_list, mapping):\n",
    "    qc = QuantumCircuit(4)\n",
    "    cnot_count=0\n",
    "    #To Do: Write an algorithm that creates the circuit in the given topology using swap gates \n",
    "    # and evaluates the cnot count of the resulting circuit\n",
    "    return qc, cnot_count"
   ]
  },
  {
   "cell_type": "markdown",
   "id": "a758ae9a-6360-4a1a-ac10-a7cf2557db39",
   "metadata": {},
   "source": [
    "### 4.1 (b)\n",
    "\n",
    "Consider the following CNOT gate and the intuitive qubit mapping $q_i \\rightarrow q_i$ :"
   ]
  },
  {
   "cell_type": "code",
   "execution_count": 4,
   "id": "8c8f8a12-c59f-4d35-9c26-4e4f150083e8",
   "metadata": {},
   "outputs": [
    {
     "data": {
      "image/png": "[encoded data removed]",
      "text/plain": [
       "<Figure size 254.857x459.861 with 1 Axes>"
      ]
     },
     "execution_count": 4,
     "metadata": {},
     "output_type": "execute_result"
    }
   ],
   "source": [
    "mapping_1 = [(0,0), (1,1), (2,2), (3,3)]\n",
    "\n",
    "qc=create_CNOT_circuit(circ_1)\n",
    "qc.draw('mpl')"
   ]
  },
  {
   "cell_type": "code",
   "execution_count": 5,
   "id": "49712309-599f-4ca2-a5c3-1b1e324b3104",
   "metadata": {},
   "outputs": [],
   "source": [
    "#To Do: Run your algorithm for a single CNOT gate in the given topology"
   ]
  },
  {
   "cell_type": "markdown",
   "id": "94286203-8eb2-421c-a8d4-b5dc453a4376",
   "metadata": {},
   "source": [
    "## 4.1 (c)\n",
    "\n",
    "Consider the following CNOT circuit"
   ]
  },
  {
   "cell_type": "code",
   "execution_count": 6,
   "id": "3e3d8260-c60a-4435-ab98-f44f1daeb10e",
   "metadata": {},
   "outputs": [
    {
     "data": {
      "image/png": "[encoded data removed]",
      "text/plain": [
       "<Figure size 463.884x459.861 with 1 Axes>"
      ]
     },
     "execution_count": 6,
     "metadata": {},
     "output_type": "execute_result"
    }
   ],
   "source": [
    "qc=create_CNOT_circuit(circ_2)\n",
    "qc.draw('mpl')"
   ]
  },
  {
   "cell_type": "code",
   "execution_count": 7,
   "id": "6bab68ba-0d49-4c2b-adb7-374ca7b0491f",
   "metadata": {},
   "outputs": [],
   "source": [
    "#To Do: Run your algorithm with the intuitive mapping for the above CNOT circuit"
   ]
  },
  {
   "cell_type": "markdown",
   "id": "b0e66068-fe20-4571-98ee-8896a3f94513",
   "metadata": {},
   "source": [
    "## 4.1 (d)"
   ]
  },
  {
   "cell_type": "code",
   "execution_count": 8,
   "id": "7fd9821e-a2fd-4767-8c48-89f210ddbd87",
   "metadata": {},
   "outputs": [],
   "source": [
    "mapping_2 = [(0,1), (1,0), (2,2), (3,3)]\n",
    "\n",
    "#To Do: Run the algorithm with another mapping"
   ]
  },
  {
   "cell_type": "markdown",
   "id": "8cd54e30-0755-42d5-8bef-2d374bf9a986",
   "metadata": {},
   "source": [
    "## 4.1 (e)"
   ]
  },
  {
   "cell_type": "code",
   "execution_count": 9,
   "id": "c0ca6a90-ef9b-4946-b536-7db9de7ad9a3",
   "metadata": {},
   "outputs": [],
   "source": [
    "mapping_3 = [(0,0), (1,2), (2,1), (3,3)]\n",
    "\n",
    "#To Do: Run the algorithm with another mapping"
   ]
  },
  {
   "cell_type": "code",
   "execution_count": null,
   "id": "7c499e95-eced-42ea-93eb-1cd188bcec7b",
   "metadata": {},
   "outputs": [],
   "source": []
  }
 ],
 "metadata": {
  "kernelspec": {
   "display_name": "Python 3 (ipykernel)",
   "language": "python",
   "name": "python3"
  },
  "language_info": {
   "codemirror_mode": {
    "name": "ipython",
    "version": 3
   },
   "file_extension": ".py",
   "mimetype": "text/x-python",
   "name": "python",
   "nbconvert_exporter": "python",
   "pygments_lexer": "ipython3",
   "version": "3.12.10"
  }
 },
 "nbformat": 4,
 "nbformat_minor": 5
}
