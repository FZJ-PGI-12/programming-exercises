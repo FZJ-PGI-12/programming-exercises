{
 "cells": [
  {
   "cell_type": "markdown",
   "id": "fb789dfb",
   "metadata": {
    "slideshow": {
     "slide_type": "slide"
    }
   },
   "source": [
    "# Template to Exercise 1\n",
    "\n",
    "Author: Tobias Stollenwerk, Institute for Quantum Computing Analytics (PGI-12), FZ Jülich\n",
    "\n",
    "**Please use this template for exercise 1.3 (b)**\n"
   ]
  },
  {
   "cell_type": "code",
   "execution_count": 1,
   "id": "b0602cae",
   "metadata": {
    "slideshow": {
     "slide_type": "skip"
    }
   },
   "outputs": [],
   "source": [
    "import qiskit\n",
    "import numpy as np\n",
    "from qiskit import QuantumCircuit\n",
    "from qiskit_aer import QasmSimulator\n",
    "from qiskit.quantum_info import Pauli\n",
    "from qiskit.visualization import array_to_latex, plot_histogram\n",
    "# Imports needed for simulating noisy quantum computation\n",
    "from qiskit import transpile\n",
    "from qiskit_aer import AerSimulator\n",
    "from qiskit.quantum_info import Kraus, SuperOp\n",
    "from qiskit_aer.noise import (NoiseModel, QuantumError)\n",
    "from qiskit.circuit import ParameterVector\n",
    "from qiskit.quantum_info import SparsePauliOp"
   ]
  },
  {
   "cell_type": "markdown",
   "id": "9a552f39-7c6f-4fdb-8d7d-c82d4c95c5a1",
   "metadata": {},
   "source": [
    "## Further information\n",
    "\n",
    "https://qiskit.github.io/qiskit-aer/tutorials/3_building_noise_models.html"
   ]
  },
  {
   "cell_type": "markdown",
   "id": "e710bd50",
   "metadata": {
    "slideshow": {
     "slide_type": "subslide"
    }
   },
   "source": [
    "### Example Quantum Circuit"
   ]
  },
  {
   "cell_type": "code",
   "execution_count": 2,
   "id": "a65a8836",
   "metadata": {},
   "outputs": [
    {
     "data": {
      "image/png": "[encoded data removed]",
      "text/plain": [
       "<Figure size 454.517x284.278 with 1 Axes>"
      ]
     },
     "metadata": {},
     "output_type": "display_data"
    }
   ],
   "source": [
    "circuit = QuantumCircuit(2, 2)\n",
    "circuit.h(0)\n",
    "circuit.cx(0, 1)\n",
    "circuit.measure(0, 0)\n",
    "circuit.measure(1, 1);\n",
    "# display the circuit\n",
    "display(circuit.draw('mpl'))\n"
   ]
  },
  {
   "cell_type": "markdown",
   "id": "ac09208b-eed3-47d9-8f16-29efe71af558",
   "metadata": {},
   "source": [
    "## Example of quantum noise as quantum operations (Kraus operators)"
   ]
  },
  {
   "cell_type": "markdown",
   "id": "181dab63-1e0d-4189-972a-95b589d676ba",
   "metadata": {},
   "source": [
    "Consider the following single-qubit quantum noise operation\n",
    "$$\n",
    "\\mathcal{E}(\\rho) = (1-p) I_i \\rho I_i + p X_i \\rho X_i\n",
    "$$\n",
    "that occurs whenever there is a single qubit gate applied on qubit $i$"
   ]
  },
  {
   "cell_type": "code",
   "execution_count": 3,
   "id": "6947dacd-c4ef-4640-a005-ccacace9ade0",
   "metadata": {},
   "outputs": [],
   "source": [
    "p = 0.1\n",
    "error_1 = [(Pauli('I'), (1-p)),\n",
    "           (Pauli('X'), p)]"
   ]
  },
  {
   "cell_type": "markdown",
   "id": "daaf4a8f-da18-4786-8bb5-4051fb3ddd17",
   "metadata": {},
   "source": [
    "As well as the two-qubit quantum noise operation\n",
    "\n",
    "$$\n",
    "\\mathcal{E}(\\rho) = \\mathcal{E}_\\mathrm{II}(\\rho)  +\\mathcal{E}_\\mathrm{IX}(\\rho)  + \\mathcal{E}_\\mathrm{XI}(\\rho) + \\mathcal{E}_\\mathrm{XX}(\\rho) \n",
    "$$\n",
    "with\n",
    "$$\n",
    "\\mathcal{E}_\\mathrm{II}(\\rho) = (1-p)^2 I_i I_j \\rho I_i I_j \n",
    "$$\n",
    "$$\n",
    "\\mathcal{E}_\\mathrm{IX}(\\rho) = (1-p)p I_i X_j \\rho I_i X_j \n",
    "$$\n",
    "$$\n",
    "\\mathcal{E}_\\mathrm{XI}(\\rho) = p(1-p) X_i I_j \\rho X_i I_j \n",
    "$$\n",
    "$$\n",
    "\\mathcal{E}_\\mathrm{XX}(\\rho) = p^2 X_i X_j \\rho X_i X_j \n",
    "$$\n",
    "that occurs whenever there is a two qubit gate applied to qubits $i$ and $j$."
   ]
  },
  {
   "cell_type": "code",
   "execution_count": 4,
   "id": "f289dbfe-9c75-4b9e-a672-23a6c9db67ae",
   "metadata": {},
   "outputs": [],
   "source": [
    "error_2 = [(Pauli('II'), (1-p)*(1-p)),\n",
    "           (Pauli('IX'), (1-p)*p),\n",
    "           (Pauli('XI'), p*(1-p)),\n",
    "           (Pauli('XX'), p*p)]"
   ]
  },
  {
   "cell_type": "markdown",
   "id": "e4d09a70-5298-4903-865c-9b989820335d",
   "metadata": {},
   "source": [
    "The corresponding Kraus operators read\n",
    "$$\n",
    "E_\\mathrm{I} = \\sqrt{(1-p)} I_i \n",
    "$$\n",
    "$$\n",
    "E_\\mathrm{X} = \\sqrt{p} X_i \n",
    "$$\n",
    "$$\n",
    "E_\\mathrm{II} = \\sqrt{(1-p)^2} I_i I_j\n",
    "$$\n",
    "$$\n",
    "E_\\mathrm{IX} = \\sqrt{(1-p)p} I_i X_j\n",
    "$$\n",
    "$$\n",
    "E_\\mathrm{XI} = \\sqrt{p(1-p)} X_i I_j\n",
    "$$\n",
    "$$\n",
    "E_\\mathrm{XX} = \\sqrt{p^2} X_i X_j\n",
    "$$\n"
   ]
  },
  {
   "cell_type": "code",
   "execution_count": 5,
   "id": "4d730894-281d-4727-8e3e-e9c7f615dcca",
   "metadata": {},
   "outputs": [],
   "source": [
    "EI = SparsePauliOp(\"I\", np.sqrt((1-p)))\n",
    "EX = SparsePauliOp(\"X\", np.sqrt(p))"
   ]
  },
  {
   "cell_type": "code",
   "execution_count": 6,
   "id": "233a6473-5f27-47b4-a7d1-75c2f46dc750",
   "metadata": {},
   "outputs": [],
   "source": [
    "EII = SparsePauliOp(\"II\", np.sqrt((1-p)*(1-p)))\n",
    "EIX = SparsePauliOp(\"IX\", np.sqrt((1-p)*p))\n",
    "EXI = SparsePauliOp(\"XI\", np.sqrt(p*(1-p)))\n",
    "EXX = SparsePauliOp(\"XX\", np.sqrt(p*p))"
   ]
  },
  {
   "cell_type": "code",
   "execution_count": 7,
   "id": "6619e36a-219b-4f95-b3f0-1ce60e157ef0",
   "metadata": {},
   "outputs": [],
   "source": [
    "error_1 = QuantumError(Kraus([EI.to_matrix(), EX.to_matrix()]))\n",
    "error_2 = QuantumError(Kraus([EII.to_matrix(), \n",
    "                              EIX.to_matrix(),\n",
    "                              EXI.to_matrix(),\n",
    "                              EXX.to_matrix()]))\n",
    "# note that both ways to construct error_1 and error_2 are equivalent"
   ]
  },
  {
   "cell_type": "markdown",
   "id": "f8713acd-bced-4e8e-b805-86ea18d529c8",
   "metadata": {},
   "source": [
    "## Noise model for the simulation"
   ]
  },
  {
   "cell_type": "code",
   "execution_count": 8,
   "id": "d4967351-b530-4824-8799-a58bfac50878",
   "metadata": {},
   "outputs": [],
   "source": [
    "# Create an empty noise model\n",
    "noise_model = NoiseModel()\n",
    "\n",
    "# Add bit flip error to H, X, and R_Z gates\n",
    "noise_model.add_all_qubit_quantum_error(error_1, ['h', 'x', 'rz'])\n",
    "noise_model.add_all_qubit_quantum_error(error_2, ['cx'])"
   ]
  },
  {
   "cell_type": "code",
   "execution_count": 9,
   "id": "2e2882ec-6ee1-4962-b8c3-e94a49c7b07d",
   "metadata": {},
   "outputs": [
    {
     "data": {
      "image/png": "[encoded data removed]",
      "text/plain": [
       "<Figure size 700x500 with 1 Axes>"
      ]
     },
     "execution_count": 9,
     "metadata": {},
     "output_type": "execute_result"
    }
   ],
   "source": [
    "# Create noisy simulator backend\n",
    "sim_noise = AerSimulator(noise_model=noise_model)\n",
    "\n",
    "# Transpile circuit for noisy basis gates\n",
    "circuit_with_noise = transpile(circuit, sim_noise)\n",
    "\n",
    "# Run and get counts\n",
    "result = sim_noise.run(circuit_with_noise).result()\n",
    "counts = result.get_counts(0)\n",
    "\n",
    "# Plot noisy output\n",
    "plot_histogram(counts)"
   ]
  },
  {
   "cell_type": "markdown",
   "id": "9fd2c76a-4011-4994-bd2e-c60a45939213",
   "metadata": {},
   "source": [
    "## Ideal simulation"
   ]
  },
  {
   "cell_type": "code",
   "execution_count": 10,
   "id": "2d8819a0-3843-471f-84b4-ae6b7ae376ef",
   "metadata": {},
   "outputs": [
    {
     "data": {
      "image/png": "[encoded data removed]",
      "text/plain": [
       "<Figure size 700x500 with 1 Axes>"
      ]
     },
     "metadata": {},
     "output_type": "display_data"
    }
   ],
   "source": [
    "simulator = QasmSimulator()\n",
    "job = simulator.run(circuit, shots=1000)\n",
    "result = job.result()\n",
    "counts = result.get_counts()\n",
    "display(plot_histogram(counts))\n"
   ]
  },
  {
   "cell_type": "code",
   "execution_count": null,
   "id": "959f011f-9c47-4b36-929c-82430417ee0e",
   "metadata": {},
   "outputs": [],
   "source": []
  }
 ],
 "metadata": {
  "celltoolbar": "Slideshow",
  "kernelspec": {
   "display_name": "programming-exercise",
   "language": "python",
   "name": "python3"
  },
  "language_info": {
   "codemirror_mode": {
    "name": "ipython",
    "version": 3
   },
   "file_extension": ".py",
   "mimetype": "text/x-python",
   "name": "python",
   "nbconvert_exporter": "python",
   "pygments_lexer": "ipython3",
   "version": "3.12.10"
  }
 },
 "nbformat": 4,
 "nbformat_minor": 5
}
