{
 "cells": [
  {
   "cell_type": "markdown",
   "id": "ea610eed-cc2a-4d08-8d69-975fd88b03b7",
   "metadata": {},
   "source": [
    "# Exercise 5.2"
   ]
  },
  {
   "cell_type": "code",
   "execution_count": 1,
   "id": "32bc3d09-cdbb-4794-b2e6-c708a74a5c62",
   "metadata": {},
   "outputs": [],
   "source": [
    "import numpy as np"
   ]
  },
  {
   "cell_type": "markdown",
   "id": "55c8da0e-84f5-47d1-9c84-db386951c580",
   "metadata": {},
   "source": [
    "## 5.2 (a)"
   ]
  },
  {
   "cell_type": "code",
   "execution_count": 2,
   "id": "8e409ad9-2b73-48fb-8c3d-a3e68b4722da",
   "metadata": {},
   "outputs": [],
   "source": [
    "def UtoSU4 (U):\n",
    "    # To Do: define alpha such that alpha*U lies in SU(4).\n",
    "    # Hint: if you use np.power(x1, x2, dtype=complex), make sure you cast the data type as complex\n",
    "    alpha = 1\n",
    "    return alpha * U"
   ]
  },
  {
   "cell_type": "markdown",
   "id": "0aab81ca-308a-4007-9ec5-e4f2a480c1f4",
   "metadata": {},
   "source": [
    "## 5.2 (b)"
   ]
  },
  {
   "cell_type": "code",
   "execution_count": 13,
   "id": "77d268f6-0c92-4200-a090-174c48018da0",
   "metadata": {},
   "outputs": [],
   "source": [
    "Q = 1/np.sqrt(2)*np.array([[1,  0,  0,  1j],\n",
    "                           [0, 1j,  1,   0],\n",
    "                           [0, 1j, -1,   0],\n",
    "                           [1,  0,  0, -1j]])\n",
    "\n",
    "def U_B (U):\n",
    "    # To Do: write the transformation.\n",
    "    # Hint: Q above might be useful.\n",
    "    U_B = U\n",
    "    return U_B"
   ]
  },
  {
   "cell_type": "markdown",
   "id": "17b29612-e704-4523-9326-ac6d9c5da09e",
   "metadata": {},
   "source": [
    "## 5.2 (e)"
   ]
  },
  {
   "cell_type": "code",
   "execution_count": 4,
   "id": "3e34e94b-8480-4a97-8d1e-34ff1f32aeaf",
   "metadata": {},
   "outputs": [],
   "source": [
    "def m(U_B):\n",
    "    #To Do: write the definition of m\n",
    "    m = U_B    \n",
    "    return m"
   ]
  },
  {
   "cell_type": "markdown",
   "id": "a4d260e9-9609-4abf-bce5-5f71ec968510",
   "metadata": {},
   "source": [
    "## 5.2 (f)"
   ]
  },
  {
   "cell_type": "code",
   "execution_count": 16,
   "id": "4dc38b12-3b4e-42e1-8b84-54412ec98611",
   "metadata": {},
   "outputs": [],
   "source": [
    "def compute_c(U):\n",
    "    # To Do: program the method\n",
    "    c = np.array([0.,0.,0.])\n",
    "    \n",
    "    return c"
   ]
  },
  {
   "cell_type": "code",
   "execution_count": 17,
   "id": "d951bc66-4fed-4d91-8737-6490b027e5aa",
   "metadata": {},
   "outputs": [
    {
     "data": {
      "text/plain": [
       "array([0., 0., 0.])"
      ]
     },
     "execution_count": 17,
     "metadata": {},
     "output_type": "execute_result"
    }
   ],
   "source": [
    "compute_c(np.diag([1,1,1,1]))"
   ]
  },
  {
   "cell_type": "markdown",
   "id": "b9fe1747-e954-4d61-99ed-7e8b7f0a888c",
   "metadata": {},
   "source": [
    "## 5.2 (g)"
   ]
  },
  {
   "cell_type": "code",
   "execution_count": 18,
   "id": "0106f2a7-4459-4d76-acd7-f208f1ee2263",
   "metadata": {},
   "outputs": [],
   "source": [
    "def compute_t_in_Weyl_chamber(U):\n",
    "    c = compute_c(U)\n",
    "\n",
    "    # Aim: bring c into the Weyl chamber. We will work in t\\in[-1,1] units.\n",
    "    # Step 0: work in terms of multiple of pi\n",
    "    t = c/np.pi\n",
    "\n",
    "    # To Do: Step 1: Bring everything into [0, 1)\n",
    "    t = t\n",
    "    # To Do: Step 2: Sort t1 >= t2 >= t3\n",
    "    t =t\n",
    "    # To Do: Step 3: if t1 + t2 >= 1, transform (t1, t2, t3) -> (1-t2, 1-t1, t3)\n",
    "    if t[0]+t[1] >=1:\n",
    "        t = t\n",
    "    # To Do: Step 4: if t3 = 0 and t1>1/2, transform (t1, t2, 0) -> (1-t1, t2, 0)\n",
    "    if (t[0] > 1/2) and np.isclose(t[2], 0):\n",
    "        t = t\n",
    "    return t"
   ]
  },
  {
   "cell_type": "markdown",
   "id": "385f2b48-57fd-4705-b022-9142bbd08bed",
   "metadata": {},
   "source": [
    "## 5.2 (h)"
   ]
  },
  {
   "cell_type": "code",
   "execution_count": 19,
   "id": "7d98f3f4-408d-4b40-bcaf-e19bbae671a0",
   "metadata": {},
   "outputs": [],
   "source": [
    "CNOT = np.array([[1,0,0, 0],\n",
    "                 [0,1,0,0],\n",
    "                 [0,0,0,1],\n",
    "                 [0,0,1,0]])\n",
    "\n",
    "SWAP = np.array([[1,0,0, 0],\n",
    "                 [0,0,1,0],\n",
    "                 [0,1,0,0],\n",
    "                 [0,0,0,1]])\n",
    "\n",
    "iSWAP = np.array([[1,0,0, 0],\n",
    "                 [0,0,1j,0],\n",
    "                 [0,1j,0,0],\n",
    "                 [0,0,0,1]])\n",
    "\n",
    "sqrtSWAP = np.array([[1,0,0, 0],\n",
    "                 [0,1/2 * (1+1j),1/2 * (1-1j),0],\n",
    "                 [0,1/2 * (1-1j),1/2 * (1+1j),0],\n",
    "                 [0,0,0,1]])"
   ]
  },
  {
   "cell_type": "code",
   "execution_count": 20,
   "id": "c39ad5b8-029e-42bd-8db8-19092ba74487",
   "metadata": {},
   "outputs": [
    {
     "data": {
      "text/plain": [
       "array([0., 0., 0.])"
      ]
     },
     "execution_count": 20,
     "metadata": {},
     "output_type": "execute_result"
    }
   ],
   "source": [
    "compute_t_in_Weyl_chamber(CNOT)"
   ]
  },
  {
   "cell_type": "code",
   "execution_count": 21,
   "id": "df39e9f6-0e93-4ff9-b722-1ef9ea27c37d",
   "metadata": {},
   "outputs": [
    {
     "data": {
      "text/plain": [
       "array([0., 0., 0.])"
      ]
     },
     "execution_count": 21,
     "metadata": {},
     "output_type": "execute_result"
    }
   ],
   "source": [
    "compute_t_in_Weyl_chamber(SWAP)"
   ]
  },
  {
   "cell_type": "code",
   "execution_count": 22,
   "id": "b9c4cba0-c93c-4069-9172-379139776ffc",
   "metadata": {},
   "outputs": [
    {
     "data": {
      "text/plain": [
       "array([0., 0., 0.])"
      ]
     },
     "execution_count": 22,
     "metadata": {},
     "output_type": "execute_result"
    }
   ],
   "source": [
    "compute_t_in_Weyl_chamber(iSWAP)"
   ]
  },
  {
   "cell_type": "code",
   "execution_count": 23,
   "id": "5ea7a8b7-a372-4f4f-93a1-27c3579efb5e",
   "metadata": {},
   "outputs": [
    {
     "data": {
      "text/plain": [
       "array([0., 0., 0.])"
      ]
     },
     "execution_count": 23,
     "metadata": {},
     "output_type": "execute_result"
    }
   ],
   "source": [
    "compute_t_in_Weyl_chamber(sqrtSWAP)"
   ]
  },
  {
   "cell_type": "code",
   "execution_count": null,
   "id": "276b2a2f-4292-428f-9d0f-a436b4f9a0cb",
   "metadata": {},
   "outputs": [],
   "source": []
  }
 ],
 "metadata": {
  "kernelspec": {
   "display_name": "Python 3 (ipykernel)",
   "language": "python",
   "name": "python3"
  },
  "language_info": {
   "codemirror_mode": {
    "name": "ipython",
    "version": 3
   },
   "file_extension": ".py",
   "mimetype": "text/x-python",
   "name": "python",
   "nbconvert_exporter": "python",
   "pygments_lexer": "ipython3",
   "version": "3.12.10"
  }
 },
 "nbformat": 4,
 "nbformat_minor": 5
}
