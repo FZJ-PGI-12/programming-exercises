{
 "cells": [
  {
   "cell_type": "code",
   "execution_count": null,
   "id": "13024e41-47f4-4a33-9b8e-ce7d5abb8806",
   "metadata": {},
   "outputs": [],
   "source": [
    "import qiskit\n",
    "# numerics\n",
    "import numpy as np\n",
    "# functional programmin tools\n",
    "import itertools\n",
    "import functools\n",
    "import operator\n",
    "# plotting\n",
    "import matplotlib.pyplot as plt\n",
    "%matplotlib inline\n",
    "plt.rcParams['figure.dpi'] = 125\n",
    "import seaborn\n",
    "# data analysis\n",
    "import pandas as pd\n",
    "# qiskit \n",
    "from qiskit import QuantumCircuit, transpile, assemble\n",
    "from qiskit_aer import QasmSimulator, AerSimulator\n",
    "from qiskit.quantum_info import Pauli\n",
    "from qiskit.visualization import array_to_latex, plot_histogram\n",
    "from qiskit.quantum_info import Kraus, SuperOp, SparsePauliOp, Operator, DensityMatrix, Statevector\n",
    "from qiskit_aer.noise import NoiseModel, QuantumError, ReadoutError, depolarizing_error\n",
    "from qiskit.circuit import ParameterVector\n",
    "import random"
   ]
  },
  {
   "cell_type": "markdown",
   "id": "f6e2d80e-b761-48dd-974b-53112a9b3b56",
   "metadata": {},
   "source": [
    "## Exercise 6.1 (b)"
   ]
  },
  {
   "cell_type": "code",
   "execution_count": null,
   "id": "f6de07e0-553a-4db4-b883-74edc3f9f680",
   "metadata": {},
   "outputs": [],
   "source": [
    "#To do: Implement arbitrary encoded state and apply a bit-flip error to a random qubit i=1,2,3"
   ]
  },
  {
   "cell_type": "code",
   "execution_count": null,
   "id": "eaafdbc0-4940-44b5-b1f8-2bec84704830",
   "metadata": {},
   "outputs": [],
   "source": [
    "#To do: Apply the error detection and recovery operation to correct the error in quiskit"
   ]
  }
 ],
 "metadata": {
  "kernelspec": {
   "display_name": "Python 3 (ipykernel)",
   "language": "python",
   "name": "python3"
  },
  "language_info": {
   "codemirror_mode": {
    "name": "ipython",
    "version": 3
   },
   "file_extension": ".py",
   "mimetype": "text/x-python",
   "name": "python",
   "nbconvert_exporter": "python",
   "pygments_lexer": "ipython3",
   "version": "3.12.3"
  }
 },
 "nbformat": 4,
 "nbformat_minor": 5
}
